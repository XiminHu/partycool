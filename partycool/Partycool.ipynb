{
 "cells": [
  {
   "cell_type": "code",
   "execution_count": 1,
   "metadata": {},
   "outputs": [],
   "source": [
    "import numpy as np\n",
    "import cv2\n",
    "import skimage\n",
    "from skimage import io\n",
    "import matplotlib.pyplot as plt\n",
    "from scipy.ndimage import gaussian_filter\n",
    "from skimage.morphology import reconstruction\n",
    "from scipy import stats\n",
    "from statistics import mean \n",
    "from collections import OrderedDict\n",
    "#import plotly.graph_objects as go\n",
    "import pandas as pd\n",
    "\n",
    "#Optional modules\n",
    "from skimage.feature import corner_harris, corner_subpix, corner_peaks\n",
    "from skimage.transform import warp, AffineTransform"
   ]
  },
  {
   "cell_type": "code",
   "execution_count": 2,
   "metadata": {},
   "outputs": [],
   "source": [
    "import watershed"
   ]
  },
  {
   "cell_type": "code",
   "execution_count": 3,
   "metadata": {},
   "outputs": [],
   "source": [
    "img = cv2.imread('../example_images/sem_1.jpg',0)"
   ]
  },
  {
   "cell_type": "code",
   "execution_count": 8,
   "metadata": {},
   "outputs": [],
   "source": [
    "def corner_detection(img, actual_len):\n",
    "    \"\"\"\n",
    "    This function is used to find the length of each pixel in nm.\n",
    "    The input should be the initial SEM image.\n",
    "    actual_len should be in micrometer such as 2 um\n",
    "    The unit of the output length_each_pixel is nm\n",
    "    \"\"\"\n",
    "    def boundary_detection(img, thres = 20):\n",
    "        '''\n",
    "        thres: threshold to distinguish the scale bar background with particle background by grey scale\n",
    "        for now only work for SEM img, needs update if apply to different imgs\n",
    "        scan from upper to bottom, also needs update if need scan from left to right\n",
    "        '''\n",
    "        mode_list = []\n",
    "        for line in range(len(img)):\n",
    "            mode = stats.mode(img[line])\n",
    "            mode_list.append(int(mode[0]))\n",
    "\n",
    "            if line >= 1:\n",
    "                mode_mean = mean(mode_list)\n",
    "                if mode_mean - int(mode[0]) >= thres:\n",
    "                    boundary = line\n",
    "                    break\n",
    "\n",
    "        return boundary\n",
    "    \n",
    "    def dilated_image(img,sigma):\n",
    "        \"\"\"\n",
    "        filtering regional maxima to find bright features by \n",
    "        using gaussian filter and reconstruction\n",
    "        simga: standard deviation for Gaussian kernel \n",
    "        \"\"\"\n",
    "        # Convert to float: Important for subtraction later which won't work with uint8\n",
    "        img = gaussian_filter(img, sigma)\n",
    "        seed = np.copy(img, sigma)\n",
    "        seed[1:-1, 1:-1] = img.min()\n",
    "        mask = img\n",
    "\n",
    "        dilated = reconstruction(seed, mask, method='dilation')\n",
    "        return dilated\n",
    "    \n",
    "    actual_len = actual_len*1000\n",
    "    height = img.shape[0]\n",
    "    width = img.shape[1]\n",
    "    #find the bottom part of the SEM image. Here we used the return refunction \n",
    "    ime = img[boundary_detection(dilated_image(img,1)): , : ]\n",
    "    \n",
    "    # find the smallest area of interest\n",
    "    boundary_v = []\n",
    "    thres = 100\n",
    "    for i in range(ime.shape[1]):\n",
    "        if ime[:,i][0] > thres:\n",
    "            boundary_v.append(i)\n",
    "    \n",
    "    #determine the smaller one of the scale bar region\n",
    "    ime = img[boundary_detection(dilated_image(img,1)): , boundary_v[-1]+10: ]\n",
    "    \n",
    "    boundary_h = []\n",
    "    for i in range(ime.shape[0]):\n",
    "        if ime[i,:][0] > thres:\n",
    "            boundary_h.append(i)\n",
    "    ime = img[boundary_detection(dilated_image(img,1)):boundary_detection(dilated_image(img,1))+boundary_h[0] , boundary_v[-1]+10: ]\n",
    "    \n",
    "    tform = AffineTransform()\n",
    "    image = warp(ime,tform.inverse)\n",
    "    coords = corner_peaks(corner_harris(image))\n",
    "    coords_subpix = corner_subpix(image, coords)\n",
    "    \n",
    "    #get the length of the scale bar\n",
    "    #length_scale_bar = abs(coords[0][1] - coords[1][1])\n",
    "    \n",
    "    scales = []\n",
    "    threshold = 500\n",
    "    for i in range(len(coords)):\n",
    "        for j in range(len(coords)):\n",
    "            if j <= i:\n",
    "                continue\n",
    "            else:\n",
    "                if coords[i][0] == coords[j][0]:\n",
    "                    scale = abs(coords[i][1] - coords[j][1])\n",
    "                    if scale > threshold:\n",
    "                        scales.append((coords[i][0],scale))\n",
    "                    else:\n",
    "                        continue\n",
    "                else:\n",
    "                    continue\n",
    "    scalebar = []\n",
    "    for i in range(len(scales)):\n",
    "        n_count = 0\n",
    "        for j in range(len(scales)):\n",
    "            if scales[i][0] == scales[j][0]:\n",
    "                n_count += 1\n",
    "            else:\n",
    "                continue\n",
    "        if n_count == 1:\n",
    "            scalebar.append(scales[i][1])\n",
    "        else:\n",
    "            continue\n",
    "    \n",
    "    for i in range(len(scalebar)):\n",
    "        num = scalebar.count(scalebar[i])\n",
    "        if num >= 2:\n",
    "            final_scale = scalebar[i]\n",
    "        else:\n",
    "            continue\n",
    "    \n",
    "    #get the length of the scale bar\n",
    "    #length_scale_bar = abs(coords[0][1] - coords[1][1])\n",
    "    #length of each pixel\n",
    "    length_each_pixel = actual_len/final_scale\n",
    "    \n",
    "    # length of each pixel\n",
    "    #length_each_pixel = actual_len/length_scale_bar\n",
    "    \n",
    "    \n",
    "    #plot the figure with corner detected\n",
    "    fig, ax = plt.subplots(figsize=(15,15))\n",
    "    ax.imshow(image, cmap=plt.cm.gray)\n",
    "    ax.plot(coords[:, 1], coords[:, 0], color='cyan', marker='o',\n",
    "            linestyle='None', markersize=6)\n",
    "    ax.plot(coords_subpix[:, 1], coords_subpix[:, 0], '+r', markersize=10)\n",
    "    plt.show()\n",
    "    return length_each_pixel"
   ]
  },
  {
   "cell_type": "code",
   "execution_count": 9,
   "metadata": {},
   "outputs": [
    {
     "data": {
      "image/png": "[encoded data removed]",
      "text/plain": [
       "<Figure size 1080x1080 with 1 Axes>"
      ]
     },
     "metadata": {
      "needs_background": "light"
     },
     "output_type": "display_data"
    },
    {
     "data": {
      "text/plain": [
       "1.1848341232227488"
      ]
     },
     "execution_count": 9,
     "metadata": {},
     "output_type": "execute_result"
    }
   ],
   "source": [
    "length_each_pixel = corner_detection(img, 1)\n",
    "length_each_pixel"
   ]
  },
  {
   "cell_type": "code",
   "execution_count": null,
   "metadata": {},
   "outputs": [],
   "source": [
    "def boundary_detection(img, thres = 20, orient = 'horizontal'):\n",
    "    '''\n",
    "    thres: threshold to distinguish the scale bar background with particle background by grey scale\n",
    "    for now only work for SEM img, needs update if apply to different imgs\n",
    "    scan from upper to bottom, also needs update if need scan from left to right\n",
    "    '''\n",
    "    mode_list = []\n",
    "    if orient == 'horizontal':\n",
    "        img = img\n",
    "    elif orient == 'vertical':\n",
    "        img = img.T\n",
    "    else:\n",
    "        print('Please define proprate orientation!')\n",
    "        \n",
    "    for line in range(len(img)):\n",
    "        mode = stats.mode(img[line])\n",
    "        mode_list.append(int(mode[0]))\n",
    "        \n",
    "        if line >= 1:\n",
    "            mode_mean = mean(mode_list)\n",
    "            if mode_mean - int(mode[0]) >= thres:\n",
    "                boundary = line\n",
    "                break\n",
    "        \n",
    "    return boundary"
   ]
  },
  {
   "cell_type": "code",
   "execution_count": null,
   "metadata": {},
   "outputs": [],
   "source": [
    "def img_pread(img, thres = 20, cut_orient = 'horizontal'):\n",
    "    '''\n",
    "    Pretreatment for the picture to get a dilated and boundary cutted image\n",
    "    '''\n",
    "    #Pretreatment for the boundary detection\n",
    "    image = img\n",
    "    image = gaussian_filter(image, 1)\n",
    "    seed = np.copy(image)\n",
    "    seed[1:-1, 1:-1] = image.min()\n",
    "    mask = image\n",
    "    dilated = reconstruction(seed, mask, method='dilation')\n",
    "    \n",
    "    image = mask - dilated\n",
    "    if cut_orient == 'horizontal':\n",
    "        bound = boundary_detection(dilated, cut_orient)\n",
    "        img_c = image[:bound,:]\n",
    "        img_c = img_c.astype(np.uint8)\n",
    "    elif cut_orient == 'vertical':\n",
    "        bound = boundary_detection(dilated, cut_orient)\n",
    "        img_c = image[:,:bound]\n",
    "        img_c = img_c.astype(np.uint8)\n",
    "    else:\n",
    "        img_c = image\n",
    "    \n",
    "    return img_c"
   ]
  },
  {
   "cell_type": "code",
   "execution_count": null,
   "metadata": {},
   "outputs": [],
   "source": [
    "img_filtered = img_cutter(img)"
   ]
  },
  {
   "cell_type": "code",
   "execution_count": null,
   "metadata": {},
   "outputs": [],
   "source": [
    "io.imshow(img_filtered)"
   ]
  },
  {
   "cell_type": "code",
   "execution_count": null,
   "metadata": {},
   "outputs": [],
   "source": [
    "def peri_avg(contours):\n",
    "    '''\n",
    "    Assistant function for determine the average perimeter from all contours\n",
    "    '''\n",
    "    peri_c_tot = 0\n",
    "    for c in contours:\n",
    "        peri_c_tot += cv2.arcLength(c, True)\n",
    "    peri_avg = peri_c_tot / len(contours)\n",
    "\n",
    "    return peri_avg"
   ]
  },
  {
   "cell_type": "code",
   "execution_count": null,
   "metadata": {},
   "outputs": [],
   "source": [
    "def contour_capture(img, \n",
    "                    #kernel = cv2.getStructuringElement(cv2.MORPH_ELLIPSE,(9,9)), \n",
    "                    noise_factor = 0.25,\n",
    "                    thresh_method = cv2.THRESH_BINARY,\n",
    "                    area_thresh = 300):\n",
    "    '''\n",
    "    The function captures the contours from the given imgs\n",
    "    Returns contours and dilated img\n",
    "    '''\n",
    "    #img dilation\n",
    "    #dilated = cv2.dilate(img, kernel)\n",
    "    _, threshold = cv2.threshold(img, img.max() * noise_factor, img.max(), thresh_method)\n",
    "    contours, _=cv2.findContours(threshold, cv2.RETR_TREE, cv2.CHAIN_APPROX_SIMPLE)\n",
    "    contours = [contour for contour in contours if cv2.contourArea(contour) >= area_thresh]\n",
    "    \n",
    "    return contours, img"
   ]
  },
  {
   "cell_type": "code",
   "execution_count": null,
   "metadata": {},
   "outputs": [],
   "source": [
    "contours, dilated = contour_capture(img_filtered)"
   ]
  },
  {
   "cell_type": "code",
   "execution_count": null,
   "metadata": {},
   "outputs": [],
   "source": [
    "def contour_summary(contours, hull = False):\n",
    "    '''\n",
    "    The function returns a summary based on the contour calculation\n",
    "    '''\n",
    "    contour_list = []\n",
    "    \n",
    "    for cnt in contours:\n",
    "        '''\n",
    "        More: add information for particle segmentation and area calculation\n",
    "        output: shapetype, particle #, area of individuals\n",
    "        '''\n",
    "        if hull == False:\n",
    "            contour_list.append(len(cnt))\n",
    "        elif hull == True:\n",
    "            approx = cv2.approxPolyDP(cnt, 0.01 * cv2.arcLength(cnt, True), True) #Tunning needed for the coeffecients\n",
    "            hull = cv2.convexHull(approx)\n",
    "            contour_list.append(len(hull))\n",
    "    \n",
    "    print(len(contour_list))\n",
    "    plt.hist(contour_list)\n",
    "    \n",
    "    return"
   ]
  },
  {
   "cell_type": "code",
   "execution_count": null,
   "metadata": {},
   "outputs": [],
   "source": [
    "contour_summary(contours)"
   ]
  },
  {
   "cell_type": "code",
   "execution_count": null,
   "metadata": {},
   "outputs": [],
   "source": [
    "def shape_radar(contours, dilated, thresh_di = 1.08, thres_poly = 1.75):\n",
    "    '''\n",
    "    Takes input from contour_capture\n",
    "    return a annotated img from setted threshold\n",
    "    Model tunning is possible by using different predictions provided below\n",
    "    '''\n",
    "\n",
    "    #Create plot, copy the img and convert into color scale\n",
    "    plt.figure(figsize=(20,16))\n",
    "    dilated_c = dilated.copy()\n",
    "    dilated_c = cv2.cvtColor(dilated_c,cv2.COLOR_GRAY2RGB)\n",
    "    avg_c = peri_avg(contours)\n",
    "    \n",
    "    for c in contours:\n",
    "        rect = cv2.minAreaRect(c)\n",
    "        box = cv2.boxPoints(rect)\n",
    "        box = np.int0(box)\n",
    "        \n",
    "        #Optional predictors\n",
    "        area = cv2.contourArea(c)\n",
    "        len_c = round(cv2.arcLength(c, True), 1)\n",
    "        r_area_len = round((area/len_c),1)\n",
    "        r_peri = len_c / avg_c\n",
    "\n",
    "        if r_peri <= thresh_di:\n",
    "            cv2.drawContours(dilated_c, [box], 0, (255, 255, 255), 3)\n",
    "        elif r_peri > thresh_di and r_peri <= thres_poly:\n",
    "            if area > 900:\n",
    "                cv2.putText(dilated_c, 'dimer', (c[0][0][0], c[0][0][1]), cv2.FONT_HERSHEY_SIMPLEX,1,(255, 0, 0), 3)\n",
    "                cv2.drawContours(dilated_c, [box], 0, (255, 0, 0), 3)\n",
    "            else:\n",
    "                cv2.drawContours(dilated_c, [box], 0, (255, 255, 255), 3)\n",
    "        elif r_peri > thres_poly:\n",
    "            cv2.putText(dilated_c, 'polymer', (c[0][0][0], c[0][0][1]), cv2.FONT_HERSHEY_SIMPLEX,1,(0, 255, 0), 3) \n",
    "            cv2.drawContours(dilated_c, [box], 0, (0, 255, 0), 3)\n",
    "\n",
    "    return dilated_c\n"
   ]
  },
  {
   "cell_type": "code",
   "execution_count": null,
   "metadata": {},
   "outputs": [],
   "source": [
    "img_shape = shape_radar(contours, dilated)"
   ]
  },
  {
   "cell_type": "code",
   "execution_count": null,
   "metadata": {},
   "outputs": [],
   "source": [
    "plt.figure(figsize=(20,16))\n",
    "io.imshow(img_shape)"
   ]
  },
  {
   "cell_type": "markdown",
   "metadata": {},
   "source": [
    "# Adapted from partycool_my\n",
    "\n",
    "\n",
    "## Plotly_trail: https://plot.ly/python/histograms/"
   ]
  },
  {
   "cell_type": "code",
   "execution_count": null,
   "metadata": {},
   "outputs": [],
   "source": [
    "#Example of plotly\n",
    "\n",
    "areas = [cv2.contourArea(contour) for contour in contours]\n",
    "fig = go.Figure(data=[go.Histogram(x=areas)])\n",
    "fig.show()"
   ]
  },
  {
   "cell_type": "code",
   "execution_count": null,
   "metadata": {},
   "outputs": [],
   "source": [
    "def area_summary(contours):\n",
    "    areas = [cv2.contourArea(contour) for contour in contours]\n",
    "    #output of area will be a 2D array\n",
    "    \n",
    "    #plotting function\n",
    "    plt.figure(figsize=(8, 6))\n",
    "    _ = plt.hist(areas, bins=40, color='gray')\n",
    "    plt.xlabel('Area of Au NRs (pixel^2)', fontsize=16)\n",
    "    plt.ylabel('Count', fontsize=16)\n",
    "    plt.xticks(fontsize=14)\n",
    "    plt.yticks(fontsize=14)\n",
    "    print(\"Total # of Au Particles :\\n\", len(areas))\n",
    "    \n",
    "    return"
   ]
  },
  {
   "cell_type": "code",
   "execution_count": null,
   "metadata": {},
   "outputs": [],
   "source": [
    "area_summary(contours)"
   ]
  },
  {
   "cell_type": "code",
   "execution_count": null,
   "metadata": {},
   "outputs": [],
   "source": [
    "#Information for position\n",
    "def aspect_ratio(contours):\n",
    "    aspectratio = []\n",
    "    #Get rect area from the contours\n",
    "    for i in range(0,len(contours)):\n",
    "        x,y,w,h = cv2.boundingRect(contours[i])\n",
    "        aspect_ratio = float(w)/h\n",
    "        aspectratio.append(aspect_ratio)\n",
    "\n",
    "    #plotting the aspect ratio of Au NRs\n",
    "    plt.figure(figsize=(8, 6))\n",
    "    _ = plt.hist(aspectratio, bins=40, color='gray')\n",
    "    plt.xlabel('Aspect Ratio of Au NRs', fontsize=16)\n",
    "    plt.ylabel('Count', fontsize=16)\n",
    "    plt.xticks(fontsize=14)\n",
    "    plt.yticks(fontsize=14)\n",
    "    print(\"Total # of Au Particles :\\n\", len(aspectratio))\n",
    "    \n",
    "    return"
   ]
  },
  {
   "cell_type": "code",
   "execution_count": null,
   "metadata": {},
   "outputs": [],
   "source": [
    "aspect_ratio(contours)"
   ]
  },
  {
   "cell_type": "code",
   "execution_count": null,
   "metadata": {},
   "outputs": [],
   "source": [
    "def angle_summary(contours):\n",
    "    #calculating angle of Au NRs (from Maxim page)\n",
    "    dictionary = OrderedDict()\n",
    "    com_arr = np.empty((0, 2))\n",
    "    angles = []\n",
    "    for cnt in contours:\n",
    "        try:\n",
    "            (com), _, angle = cv2.fitEllipse(cnt)\n",
    "        except:\n",
    "            continue\n",
    "        com = np.array(com)\n",
    "        com_arr = np.append(com_arr, [com], axis=0)\n",
    "        angles.append(angle)\n",
    "    \n",
    "    #Plotting functions\n",
    "    plt.figure(figsize=(8, 6))\n",
    "    _ = plt.hist(angles, bins=40, color='gray')\n",
    "    plt.xlabel('Au Particles Orientation (°)', fontsize=16)\n",
    "    plt.ylabel('Count', fontsize=16)\n",
    "    plt.xticks(fontsize=14)\n",
    "    plt.yticks(fontsize=14)\n",
    "    print(\"Total # of Au Particles :\\n\", len(angles))\n",
    "    \n",
    "    return"
   ]
  },
  {
   "cell_type": "code",
   "execution_count": null,
   "metadata": {},
   "outputs": [],
   "source": [
    "angle_summary(contours)"
   ]
  },
  {
   "cell_type": "code",
   "execution_count": null,
   "metadata": {},
   "outputs": [],
   "source": [
    "def particle_summary(contours, thresh_mono = 30, thresh_di = 90, thres_poly = 130):\n",
    "    '''\n",
    "    returns a dataframe that summarized the particle information\n",
    "    '''\n",
    "    \n",
    "    loc_x = []\n",
    "    loc_y = []\n",
    "    aspect_r = []\n",
    "    area_l = []\n",
    "    arealen_r = []\n",
    "    category_l = []\n",
    "    \n",
    "    for c in contours:\n",
    "        x,y,w,h = cv2.boundingRect(c)\n",
    "        aspect_ratio = float(w)/h\n",
    "        area = cv2.contourArea(c)\n",
    "        r_area_len = round((area/len(c)),1)\n",
    "\n",
    "        category = ''\n",
    "        \n",
    "        if len(c) <= thresh_di and len(c) > thresh_mono:\n",
    "            if area > 1800:\n",
    "                category = 'dimer'\n",
    "            else:\n",
    "                category = 'monomer'\n",
    "        elif len(c) > thresh_di and len(c) <= thres_poly:\n",
    "            category = 'dimer'\n",
    "        elif len(c) > thres_poly:\n",
    "            if r_area_len > 16.5:\n",
    "                category = 'poly'\n",
    "            else:\n",
    "                category = 'dimer'\n",
    "\n",
    "        loc_x.append(x)\n",
    "        loc_y.append(y)\n",
    "        aspect_r.append(aspect_ratio)\n",
    "        area_l.append(area)\n",
    "        arealen_r.append(r_area_len)\n",
    "        category_l.append(category)\n",
    "\n",
    "    result_dict = {'x' : loc_x, \n",
    "                   'y' : loc_y,\n",
    "                   'aspect_ratio' : aspect_r,\n",
    "                   'area' : area_l,\n",
    "                   'areacontour_ratio' : arealen_r,\n",
    "                   'category' : category_l}\n",
    "                \n",
    "    result_df = pd.DataFrame.from_dict(result_dict)\n",
    "    \n",
    "    return result_df\n"
   ]
  },
  {
   "cell_type": "code",
   "execution_count": null,
   "metadata": {},
   "outputs": [],
   "source": [
    "df = particle_summary(contours)"
   ]
  },
  {
   "cell_type": "code",
   "execution_count": null,
   "metadata": {},
   "outputs": [],
   "source": [
    "df.head()"
   ]
  }
 ],
 "metadata": {
  "kernelspec": {
   "display_name": "Python 3",
   "language": "python",
   "name": "python3"
  },
  "language_info": {
   "codemirror_mode": {
    "name": "ipython",
    "version": 3
   },
   "file_extension": ".py",
   "mimetype": "text/x-python",
   "name": "python",
   "nbconvert_exporter": "python",
   "pygments_lexer": "ipython3",
   "version": "3.7.3"
  }
 },
 "nbformat": 4,
 "nbformat_minor": 2
}
